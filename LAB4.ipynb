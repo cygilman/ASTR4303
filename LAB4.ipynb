{
 "cells": [
  {
   "cell_type": "code",
   "execution_count": 1,
   "metadata": {},
   "outputs": [
    {
     "name": "stdout",
     "output_type": "stream",
     "text": [
      "119  HARPS points;  122  HIRES points\n"
     ]
    }
   ],
   "source": [
    "import numpy as np\n",
    "import matplotlib.pyplot as plt\n",
    "from scipy.optimize import curve_fit\n",
    "from scipy.special import erfinv\n",
    "from matplotlib.ticker import (MultipleLocator, FormatStrFormatter,\n",
    "                               AutoMinorLocator)\n",
    "# Get the data\n",
    "data1 = np.loadtxt(\"HARPS.dat\")\n",
    "data2 = np.loadtxt(\"HIRES.dat\")\n",
    "data = np.vstack((data1,data2))\n",
    "print (len(data1),' HARPS points; ',len(data2),' HIRES points')\n",
    "\n",
    "# Add on jitter (additional noise term)\n",
    "jitter = 1.2\n",
    "for i in range(len(data)):\n",
    "    data[i,2] = np.sqrt( data[i,2]**2 + jitter**2 )\n",
    "\n",
    "# Initial information from Vogt et al. (2010)\n",
    "Pb_sol = 5.36841; Pb_del = 0.00026; Kb_sol = 12.45\n",
    "Pc_sol = 12.9191; Pc_del = 0.0058;  Kc_sol = 3.30\n",
    "Pd_sol = 66.87;   Pd_del = 0.13;    Kd_sol = 1.91\n",
    "Pe_sol = 3.14867; Pe_del = 0.00039; Ke_sol = 1.66\n",
    "Pf_sol = 433.0;   Pf_del = 13.0;    Kf_sol = 1.30\n",
    "Pg_sol = 36.562;  Pg_del = 0.052;   Kg_sol = 1.29"
   ]
  },
  {
   "cell_type": "code",
   "execution_count": 2,
   "metadata": {},
   "outputs": [
    {
     "name": "stdout",
     "output_type": "stream",
     "text": [
      "395.79612572406836 241\n"
     ]
    }
   ],
   "source": [
    "# A full fit is tricky because it's not obvious where to initalize the phases (q) from\n",
    "# So let's run a pre-fit first, where we only allow the phases to vary\n",
    "# Trying running this a few times and make sure the same solution is coming out\n",
    "\n",
    "# Define model M0 fix = 4-planet model using K & P parameters fixed to the Vogt+ reported values\n",
    "def M0fix(t, qb, qc, qd, qe):\n",
    "    return Kb_sol*np.sin(2.0*np.pi*t/Pb_sol+qb) \\\n",
    "           + Kc_sol*np.sin(2.0*np.pi*t/Pc_sol+qc) \\\n",
    "           + Kd_sol*np.sin(2.0*np.pi*t/Pd_sol+qd) \\\n",
    "           + Ke_sol*np.sin(2.0*np.pi*t/Pe_sol+qe)\n",
    "\n",
    "# Define our parameters bounds\n",
    "param_bounds = ( [-2.0*np.pi, \\\n",
    "                  -2.0*np.pi, \\\n",
    "                  -2.0*np.pi, \\\n",
    "                  -2.0*np.pi],\\\n",
    "                 [2.0*np.pi, \\\n",
    "                  2.0*np.pi, \\\n",
    "                  2.0*np.pi, \\\n",
    "                  2.0*np.pi] )\n",
    "\n",
    "# Give an intial guess to help the fitting routine\n",
    "initial_guess = [ np.random.uniform(-np.pi,np.pi),\\\n",
    "                  np.random.uniform(-np.pi,np.pi),\\\n",
    "                  np.random.uniform(-np.pi,np.pi),\\\n",
    "                  np.random.uniform(-np.pi,np.pi)]\n",
    "\n",
    "# Get the best fitting parameters\n",
    "M0fix_best, M0fix_cov = curve_fit(M0fix,data[:,0],data[:,1],sigma=data[:,2],p0=initial_guess,bounds=param_bounds)\n",
    "\n",
    "# Get the chi2\n",
    "chi2 = 0.0\n",
    "for i in range(len(data)):\n",
    "    chi2 = chi2 + ( ( data[i,1] - M0fix( data[i,0],\\\n",
    "                                      M0fix_best[0],\\\n",
    "                                      M0fix_best[1],\\\n",
    "                                      M0fix_best[2],\\\n",
    "                                      M0fix_best[3]) ) / data[i,2])**2\n",
    "\n",
    "# Print output\n",
    "print (chi2,len(data))"
   ]
  },
  {
   "cell_type": "code",
   "execution_count": 3,
   "metadata": {},
   "outputs": [],
   "source": [
    "# OK, I'm satisfied the above chi2 looks reasonable, so set the phase solutions as initial guesses\n",
    "qb_sol = M0fix_best[0]\n",
    "qc_sol = M0fix_best[1]\n",
    "qd_sol = M0fix_best[2]\n",
    "qe_sol = M0fix_best[3]"
   ]
  },
  {
   "cell_type": "code",
   "execution_count": 4,
   "metadata": {},
   "outputs": [
    {
     "name": "stdout",
     "output_type": "stream",
     "text": [
      "390.3946366222394 -567.7796181971883\n",
      "([0.0, 5.36763, -6.283185307179586, 0.0, 12.9017, -6.283185307179586, 0.0, 66.48, -6.283185307179586, 0.0, 3.1475, -6.283185307179586], [20.0, 5.36919, 6.283185307179586, 20.0, 12.9365, 6.283185307179586, 20.0, 67.26, 6.283185307179586, 20.0, 3.14984, 6.283185307179586])\n"
     ]
    }
   ],
   "source": [
    "# Now we're ready to run the full 4-planet fit\n",
    "\n",
    "# Define model M0 = 4-planet model\n",
    "def M0(t, Kb, Pb, qb, Kc, Pc, qc, Kd, Pd, qd, Ke, Pe, qe):\n",
    "    return Kb*np.sin(2.0*np.pi*t/Pb+qb) \\\n",
    "           + Kc*np.sin(2.0*np.pi*t/Pc+qc) \\\n",
    "           + Kd*np.sin(2.0*np.pi*t/Pd+qd) \\\n",
    "           + Ke*np.sin(2.0*np.pi*t/Pe+qe)\n",
    "\n",
    "# Define our parameters bounds\n",
    "param_bounds = ( [0.0,  Pb_sol-3.0*Pb_del, -2.0*np.pi, \\\n",
    "                  0.0,  Pc_sol-3.0*Pc_del, -2.0*np.pi, \\\n",
    "                  0.0,  Pd_sol-3.0*Pd_del, -2.0*np.pi, \\\n",
    "                  0.0,  Pe_sol-3.0*Pe_del, -2.0*np.pi],\\\n",
    "                 [20.0, Pb_sol+3.0*Pb_del,  2.0*np.pi, \\\n",
    "                  20.0, Pc_sol+3.0*Pc_del,  2.0*np.pi, \\\n",
    "                  20.0, Pd_sol+3.0*Pd_del,  2.0*np.pi, \\\n",
    "                  20.0, Pe_sol+3.0*Pe_del,  2.0*np.pi] )\n",
    "\n",
    "# Give an intial guess to help the fitting routine\n",
    "initial_guess = [ Kb_sol, Pb_sol, qb_sol,\\\n",
    "                  Kc_sol, Pc_sol, qc_sol,\\\n",
    "                  Kd_sol, Pd_sol, qd_sol,\\\n",
    "                  Ke_sol, Pe_sol, qe_sol]\n",
    "\n",
    "# Get the best fitting parameters\n",
    "M0_best, M0_cov = curve_fit(M0,data[:,0],data[:,1],sigma=data[:,2],p0=initial_guess,bounds=param_bounds)\n",
    "\n",
    "# Get the chi2\n",
    "chi2 = 0.0\n",
    "for i in range(len(data)):\n",
    "    chi2 = chi2 + ( ( data[i,1] - M0( data[i,0],\\\n",
    "                                      M0_best[0],M0_best[1],M0_best[2],\\\n",
    "                                      M0_best[3],M0_best[4],M0_best[5],\\\n",
    "                                      M0_best[6],M0_best[7],M0_best[8],\\\n",
    "                                      M0_best[9],M0_best[10],M0_best[11]) ) / data[i,2])**2\n",
    "# Get the loglike\n",
    "loglike = -0.5*len(data)*np.log(2.0*np.pi) - np.sum( np.log(data[:,2]) ) - 0.5*chi2\n",
    "\n",
    "# Print output\n",
    "print (chi2,loglike)\n",
    "print(param_bounds)"
   ]
  },
  {
   "cell_type": "code",
   "execution_count": 5,
   "metadata": {},
   "outputs": [],
   "source": [
    "P_sol = np.array([Pb_sol, Pc_sol, Pd_sol, Pe_sol, Pf_sol, Pg_sol])\n",
    "P_del = np.array([Pb_del, Pc_del, Pd_del, Pe_del, Pf_del, Pg_del])\n",
    "K_sol = np.array([Kb_sol, Kc_sol, Kd_sol, Ke_sol, Kf_sol, Kg_sol])"
   ]
  },
  {
   "cell_type": "code",
   "execution_count": 6,
   "metadata": {},
   "outputs": [],
   "source": [
    "#Want to create callable function for fitting, given params of which model, and which data used\n",
    "def model(num_pl, data, indices):\n",
    "    def Mfix(t, *args):\n",
    "        Mf = 0\n",
    "        i = 0\n",
    "        while i < num_pl:\n",
    "            Mf += K_sol[indices[i]]*np.sin(2.0*np.pi*t/P_sol[indices[i]]+args[i])\n",
    "            i += 1\n",
    "        return Mf\n",
    "    initial_guess_fix = np.array(np.random.uniform(-np.pi,np.pi, size = num_pl))\n",
    "    param_bounds_fix = [np.tile(-2.0*np.pi, num_pl),np.tile(2.0*np.pi, num_pl)]\n",
    "    Mfix_best, Mfix_cov = curve_fit(Mfix, data[:,0], data[:,1], sigma=data[:,2], p0=initial_guess_fix, bounds=param_bounds_fix)\n",
    "    #def M0(t, Kb, Pb, qb, Kc, Pc, qc, Kd, Pd, qd, Ke, Pe, qe):\n",
    "    def M(t, *args):\n",
    "        M = 0\n",
    "        i = 0\n",
    "        while i < 3*num_pl:\n",
    "            M += args[i]*np.sin(2.0*np.pi*t/args[i+1]+args[i+2])\n",
    "            i += 3\n",
    "        return M\n",
    "    initial_guess = np.zeros(num_pl*3)\n",
    "    for i in range (0, num_pl):\n",
    "        initial_guess[3*i] = K_sol[indices[i]]\n",
    "        initial_guess[3*i+1] = P_sol[indices[i]]\n",
    "        initial_guess[3*i+2] = Mfix_best[i]\n",
    "    param_bounds_low = np.array([0.0,  P_sol[0]-3.0*P_del[0], -2.0*np.pi])\n",
    "    for i in range(1, num_pl):\n",
    "        add_on = np.array([0.0,  P_sol[indices[i]]-3.0*P_del[indices[i]], -2.0*np.pi])\n",
    "        param_bounds_low = np.concatenate((param_bounds_low, add_on))\n",
    "    param_bounds_high = np.array([20.0,  P_sol[0]+3.0*P_del[0], 2.0*np.pi])\n",
    "    for i in range(1, num_pl):\n",
    "        add_on = np.array([20.0,  P_sol[indices[i]]+3.0*P_del[indices[i]], 2.0*np.pi])\n",
    "        param_bounds_high = np.concatenate((param_bounds_high, add_on)) \n",
    "    param_bounds = np.vstack((param_bounds_low, param_bounds_high))\n",
    "    M_best, M_cov = curve_fit(M, data[:,0], data[:,1], sigma=data[:,2], p0=initial_guess, bounds=param_bounds)\n",
    "    model = M(data[:,0], *M_best)\n",
    "    return M_best, model"
   ]
  },
  {
   "cell_type": "code",
   "execution_count": 7,
   "metadata": {},
   "outputs": [],
   "source": [
    "def chi_2(model, data, errors):\n",
    "    chi_2 = np.sum(((data - model)/errors)**2)\n",
    "    return chi_2"
   ]
  },
  {
   "cell_type": "code",
   "execution_count": 8,
   "metadata": {},
   "outputs": [],
   "source": [
    "def r_chi_2(model, data, errors, params):\n",
    "    r_chi_2 = chi_2(model, data, errors)/(len(data) - params)\n",
    "    return r_chi_2"
   ]
  },
  {
   "cell_type": "code",
   "execution_count": 9,
   "metadata": {},
   "outputs": [],
   "source": [
    "def loglike(model, data, errors):\n",
    "    loglike = -0.5*len(data)*np.log(2.0*np.pi) - np.sum(np.log(errors)) - 0.5*chi_2(model, data, errors)\n",
    "    return loglike"
   ]
  },
  {
   "cell_type": "code",
   "execution_count": 10,
   "metadata": {},
   "outputs": [],
   "source": [
    "def bic(model, data, errors, params):\n",
    "    bic = -2*loglike(model, data, errors) + params*np.log(len(data))\n",
    "    return bic"
   ]
  },
  {
   "cell_type": "code",
   "execution_count": 11,
   "metadata": {},
   "outputs": [],
   "source": [
    "def aic(model, data, errors, params):\n",
    "    aic = -2*loglike(model, data, errors) + 2*params\n",
    "    return aic"
   ]
  },
  {
   "cell_type": "code",
   "execution_count": 12,
   "metadata": {},
   "outputs": [],
   "source": [
    "#Case 0: Model with 4 planets; neither planet f nor planet g\n",
    "\n",
    "M0_indices = np.array([0,1,2,3])\n",
    "M0 = model(4, data, M0_indices)[1]\n",
    "M0_params = len(model(4, data, M0_indices)[0])\n",
    "\n",
    "\n",
    "M0_chi_2 = chi_2(M0, data[:,1], data[:,2])\n",
    "M0_r_chi_2 = r_chi_2(M0, data[:,1], data[:,2], M0_params)\n",
    "M0_loglike = loglike(M0, data[:,1], data[:,2])\n",
    "M0_bic = bic(M0, data[:,1], data[:,2], M0_params)\n",
    "M0_aic = aic(M0, data[:,1], data[:,2], M0_params)"
   ]
  },
  {
   "cell_type": "code",
   "execution_count": 13,
   "metadata": {},
   "outputs": [],
   "source": [
    "#Case 1: Model with planet f only\n",
    "\n",
    "Mf_indices = np.array([0,1,2,3,4])\n",
    "Mf = model(5, data, Mf_indices)[1]\n",
    "Mf_params = len(model(5, data, Mf_indices)[0])\n",
    "\n",
    "\n",
    "Mf_chi_2 = chi_2(Mf, data[:,1], data[:,2])\n",
    "Mf_r_chi_2 = r_chi_2(Mf, data[:,1], data[:,2], Mf_params)\n",
    "Mf_loglike = loglike(Mf, data[:,1], data[:,2])\n",
    "Mf_bic = bic(Mf, data[:,1], data[:,2], Mf_params)\n",
    "Mf_aic = aic(Mf, data[:,1], data[:,2], Mf_params)"
   ]
  },
  {
   "cell_type": "code",
   "execution_count": 14,
   "metadata": {},
   "outputs": [],
   "source": [
    "#Case 2: Model with planet g only\n",
    "Mg_indices = np.array([0,1,2,3,5])\n",
    "Mg = model(5, data, Mg_indices)[1]\n",
    "Mg_params = len(model(5, data, Mg_indices)[0])\n",
    "\n",
    "\n",
    "Mg_chi_2 = chi_2(Mg, data[:,1], data[:,2])\n",
    "Mg_r_chi_2 = r_chi_2(Mg, data[:,1], data[:,2], Mg_params)\n",
    "Mg_loglike = loglike(Mg, data[:,1], data[:,2])\n",
    "Mg_bic = bic(Mg, data[:,1], data[:,2], Mg_params)\n",
    "Mg_aic = aic(Mg, data[:,1], data[:,2], Mg_params)"
   ]
  },
  {
   "cell_type": "code",
   "execution_count": 15,
   "metadata": {},
   "outputs": [],
   "source": [
    "#Case 3: Model with planets f and g\n",
    "Mfg_indices = np.array([0,1,2,3,4,5])\n",
    "Mfg = model(6, data, Mfg_indices)[1]\n",
    "Mfg_params = len(model(6, data, Mfg_indices)[0])\n",
    "\n",
    "\n",
    "Mfg_chi_2 = chi_2(Mfg, data[:,1], data[:,2])\n",
    "Mfg_r_chi_2 = r_chi_2(Mfg, data[:,1], data[:,2], Mfg_params)\n",
    "Mfg_loglike = loglike(Mfg, data[:,1], data[:,2])\n",
    "Mfg_bic = bic(Mfg, data[:,1], data[:,2], Mfg_params)\n",
    "Mfg_aic = aic(Mfg, data[:,1], data[:,2], Mfg_params)"
   ]
  },
  {
   "cell_type": "code",
   "execution_count": 16,
   "metadata": {},
   "outputs": [
    {
     "name": "stdout",
     "output_type": "stream",
     "text": [
      "Model\t|\tχ2\t|\tloglike\t|\tred_χ2\t|\tBIC\t|\tAIC\n",
      "-----------------------------------------------------------------------------------------\n",
      "M0\t|\t390.53\t|\t-567.85\t|\t1.71\t|\t1201.51\t|\t1159.69\n",
      "Mf\t|\t347.08\t|\t-546.12\t|\t1.54\t|\t1174.52\t|\t1122.25\n",
      "Mg\t|\t341.60\t|\t-543.38\t|\t1.51\t|\t1169.04\t|\t1116.76\n",
      "Mfg\t|\t297.63\t|\t-521.40\t|\t1.33\t|\t1141.52\t|\t1078.79\n"
     ]
    }
   ],
   "source": [
    "# print everything!\n",
    "print (\"Model\\t|\\t\\u03C72\\t|\\tloglike\\t|\\tred_\\u03C72\\t|\\tBIC\\t|\\tAIC\")\n",
    "print(\"-----------------------------------------------------------------------------------------\")\n",
    "print (f'M0\\t|\\t{M0_chi_2:.2f}\\t|\\t{M0_loglike:.2f}\\t|\\t{M0_r_chi_2:.2f}\\t|\\t{M0_bic:.2f}\\t|\\t{M0_aic:.2f}')\n",
    "print (f'Mf\\t|\\t{Mf_chi_2:.2f}\\t|\\t{Mf_loglike:.2f}\\t|\\t{Mf_r_chi_2:.2f}\\t|\\t{Mf_bic:.2f}\\t|\\t{Mf_aic:.2f}')\n",
    "print (f'Mg\\t|\\t{Mg_chi_2:.2f}\\t|\\t{Mg_loglike:.2f}\\t|\\t{Mg_r_chi_2:.2f}\\t|\\t{Mg_bic:.2f}\\t|\\t{Mg_aic:.2f}')\n",
    "print (f'Mfg\\t|\\t{Mfg_chi_2:.2f}\\t|\\t{Mfg_loglike:.2f}\\t|\\t{Mfg_r_chi_2:.2f}\\t|\\t{Mfg_bic:.2f}\\t|\\t{Mfg_aic:.2f}')"
   ]
  },
  {
   "cell_type": "code",
   "execution_count": 17,
   "metadata": {},
   "outputs": [],
   "source": [
    "#go from AIC/BIC to Bayes factor, then converted to p value and percentage\n",
    "def p(ic1,ic2):\n",
    "    factor = np.exp(-0.5*(ic2 - ic1))\n",
    "    percent = 1 - 1/(1+factor)\n",
    "    p = np.sqrt(2)*erfinv(percent)\n",
    "    percent_100 = percent*100\n",
    "    return p, percent_100"
   ]
  },
  {
   "cell_type": "code",
   "execution_count": 18,
   "metadata": {},
   "outputs": [],
   "source": [
    "#using the functions made, solve for sigmas of each model!\n",
    "p_0_f_bic = p(M0_bic, Mf_bic)\n",
    "p_0_f_aic = p(M0_aic, Mf_aic)\n",
    "p_0_g_bic = p(M0_bic, Mg_bic)\n",
    "p_0_g_aic = p(M0_aic, Mg_aic)\n",
    "p_f_fg_bic = p(Mf_bic, Mfg_bic)\n",
    "p_f_fg_aic = p(Mf_aic, Mfg_aic)\n",
    "p_g_fg_bic = p(Mg_bic, Mfg_bic)\n",
    "p_g_fg_aic = p(Mg_aic, Mfg_aic)"
   ]
  },
  {
   "cell_type": "code",
   "execution_count": 19,
   "metadata": {},
   "outputs": [
    {
     "name": "stdout",
     "output_type": "stream",
     "text": [
      "Models\t|\tBIC sigmas\t|\tAIC sigmas\n",
      "--------------------------------------------------------\n",
      "Mf:M0\t|\t4.83 \t\t|\t5.78\n",
      "Mg:M0\t|\t5.35 \t\t|\t6.23\n",
      "Mfg:Mf\t|\t5.40 \t\t|\t6.27\n",
      "Mfg:Mg\t|\t4.88 \t\t|\t5.83\n"
     ]
    }
   ],
   "source": [
    "# print everything!\n",
    "print (\"Models\\t|\\tBIC sigmas\\t|\\tAIC sigmas\")\n",
    "print(\"--------------------------------------------------------\")\n",
    "print (f'Mf:M0\\t|\\t{p_0_f_bic[0]:.2f} \\t\\t|\\t{p_0_f_aic[0]:.2f}')\n",
    "print (f'Mg:M0\\t|\\t{p_0_g_bic[0]:.2f} \\t\\t|\\t{p_0_g_aic[0]:.2f}')\n",
    "print (f'Mfg:Mf\\t|\\t{p_f_fg_bic[0]:.2f} \\t\\t|\\t{p_f_fg_aic[0]:.2f}')\n",
    "print (f'Mfg:Mg\\t|\\t{p_g_fg_bic[0]:.2f} \\t\\t|\\t{p_g_fg_aic[0]:.2f}')\n"
   ]
  },
  {
   "cell_type": "code",
   "execution_count": 20,
   "metadata": {},
   "outputs": [],
   "source": [
    "#Tweak model for purposes of leaving p out\n",
    "def model_leave_out(num_pl, train, validation, indices):\n",
    "    def Mfix(t, *args):\n",
    "        Mf = 0\n",
    "        i = 0\n",
    "        while i < num_pl:\n",
    "            Mf += K_sol[indices[i]]*np.sin(2.0*np.pi*t/P_sol[indices[i]]+args[i])\n",
    "            i += 1\n",
    "        return Mf\n",
    "    initial_guess_fix = np.array(np.random.uniform(-np.pi,np.pi, size = num_pl))\n",
    "    param_bounds_fix = [np.tile(-2.0*np.pi, num_pl),np.tile(2.0*np.pi, num_pl)]\n",
    "    Mfix_best, Mfix_cov = curve_fit(Mfix, train[:,0], train[:,1], sigma=train[:,2], p0=initial_guess_fix, bounds=param_bounds_fix)\n",
    "    #def M0(t, Kb, Pb, qb, Kc, Pc, qc, Kd, Pd, qd, Ke, Pe, qe):\n",
    "    def M(t, *args):\n",
    "        M = 0\n",
    "        i = 0\n",
    "        while i < 3*num_pl:\n",
    "            M += args[i]*np.sin(2.0*np.pi*t/args[i+1]+args[i+2])\n",
    "            i += 3\n",
    "        return M\n",
    "    initial_guess = np.zeros(num_pl*3)\n",
    "    for i in range (0, num_pl):\n",
    "        initial_guess[3*i] = K_sol[indices[i]]\n",
    "        initial_guess[3*i+1] = P_sol[indices[i]]\n",
    "        initial_guess[3*i+2] = Mfix_best[i]\n",
    "    param_bounds_low = np.array([0.0,  P_sol[0]-3.0*P_del[0], -2.0*np.pi])\n",
    "    for i in range(1, num_pl):\n",
    "        add_on = np.array([0.0,  P_sol[indices[i]]-3.0*P_del[indices[i]], -2.0*np.pi])\n",
    "        param_bounds_low = np.concatenate((param_bounds_low, add_on))\n",
    "    param_bounds_high = np.array([20.0,  P_sol[0]+3.0*P_del[0], 2.0*np.pi])\n",
    "    for i in range(1, num_pl):\n",
    "        add_on = np.array([20.0,  P_sol[indices[i]]+3.0*P_del[indices[i]], 2.0*np.pi])\n",
    "        param_bounds_high = np.concatenate((param_bounds_high, add_on)) \n",
    "    param_bounds = np.vstack((param_bounds_low, param_bounds_high))\n",
    "    M_best, M_cov = curve_fit(M, train[:,0], train[:,1], sigma=train[:,2], p0=initial_guess, bounds=param_bounds)\n",
    "    model = M(validation[:,0], *M_best)\n",
    "    return model"
   ]
  },
  {
   "cell_type": "code",
   "execution_count": 21,
   "metadata": {},
   "outputs": [],
   "source": [
    "#Write leave p out function w/ one parameter: size of p\n",
    "#have it output chi2 for all four models\n",
    "def leave_p(p):\n",
    "    permute = np.random.permutation(data)\n",
    "    validation = permute[0:p, :]\n",
    "    train = permute[0:,:]\n",
    "    M0_v = model_leave_out(4, train, validation, M0_indices)\n",
    "    Mf_v = model_leave_out(5, train, validation, Mf_indices)\n",
    "    Mg_v = model_leave_out(5, train, validation, Mg_indices)\n",
    "    Mfg_v = model_leave_out(6, train, validation, Mfg_indices)\n",
    "    M0_chi_2 = chi_2(M0_v, validation[:,1], validation[:,2])\n",
    "    Mf_chi_2 = chi_2(Mf_v, validation[:,1], validation[:,2])\n",
    "    Mg_chi_2 = chi_2(Mg_v, validation[:,1], validation[:,2])\n",
    "    Mfg_chi_2 = chi_2(Mfg_v, validation[:,1], validation[:,2])\n",
    "    return M0_chi_2, Mf_chi_2, Mg_chi_2, Mfg_chi_2"
   ]
  },
  {
   "cell_type": "code",
   "execution_count": 22,
   "metadata": {},
   "outputs": [],
   "source": [
    "#calculate scores for leave p out\n",
    "def leave_scores(number, p):\n",
    "    i = 0\n",
    "    scores_array = np.zeros(4)\n",
    "    while i < number:\n",
    "        imin = np.argmin(leave_p(p))\n",
    "        scores_i = np.zeros(4)\n",
    "        scores_i[imin] = 1\n",
    "        scores_array = np.vstack((scores_array, scores_i))\n",
    "        i+=1\n",
    "    scores_total = np.sum(scores_array, axis = 0)\n",
    "    #scores = scores_total/scores_total[0]\n",
    "    scores = scores_total\n",
    "\n",
    "    return scores"
   ]
  },
  {
   "cell_type": "code",
   "execution_count": 23,
   "metadata": {},
   "outputs": [],
   "source": [
    "scores_41 = leave_scores(500, 41)\n",
    "scores_percent = scores_41/5"
   ]
  },
  {
   "cell_type": "code",
   "execution_count": 24,
   "metadata": {},
   "outputs": [
    {
     "name": "stdout",
     "output_type": "stream",
     "text": [
      "Models\t|\tPercentage of time with Lowest Chi^2\n",
      "--------------------------------------------------------\n",
      "M0\t|\t0.80\n",
      "Mf\t|\t6.40\n",
      "Mg\t|\t8.00\n",
      "Mfg\t|\t84.80\n"
     ]
    }
   ],
   "source": [
    "# print everything!\n",
    "print (\"Models\\t|\\tPercentage of time with Lowest Chi^2\")\n",
    "print(\"--------------------------------------------------------\")\n",
    "print (f'M0\\t|\\t{scores_percent[0]:.2f}')\n",
    "print (f'Mf\\t|\\t{scores_percent[1]:.2f}')\n",
    "print (f'Mg\\t|\\t{scores_percent[2]:.2f}')\n",
    "print (f'Mfg\\t|\\t{scores_percent[3]:.2f}')\n"
   ]
  },
  {
   "cell_type": "code",
   "execution_count": 25,
   "metadata": {},
   "outputs": [
    {
     "data": {
      "image/png": "[encoded data removed]",
      "text/plain": [
       "<Figure size 432x288 with 1 Axes>"
      ]
     },
     "metadata": {},
     "output_type": "display_data"
    }
   ],
   "source": [
    "#pie chart of leave p out results\n",
    "fig1, ax1 = plt.subplots()\n",
    "labels = 'M0', 'Mf', 'Mg', 'Mfg'\n",
    "ax1.pie(scores_41, labels=labels, autopct='%1.1f%%', startangle=90, colors = ('gray', 'maroon','blue', 'indigo'))\n",
    "ax1.axis('equal')  # Equal aspect ratio ensures that pie is drawn as a circle.\n",
    "plt.legend()\n",
    "plt.savefig('1.pdf')\n",
    "plt.show()"
   ]
  },
  {
   "cell_type": "code",
   "execution_count": 26,
   "metadata": {},
   "outputs": [],
   "source": [
    "#create line graph of leave p out results for variable p\n",
    "scores_t = leave_scores(10, 1)\n",
    "#larger number of iterations \n",
    "for i in range(2,120):\n",
    "    scores_i = leave_scores(10, i)\n",
    "    scores_t = np.vstack((scores_t, scores_i))\n",
    "    "
   ]
  },
  {
   "cell_type": "code",
   "execution_count": 27,
   "metadata": {},
   "outputs": [
    {
     "data": {
      "image/png": "[encoded data removed]",
      "text/plain": [
       "<Figure size 432x288 with 1 Axes>"
      ]
     },
     "metadata": {
      "needs_background": "light"
     },
     "output_type": "display_data"
    }
   ],
   "source": [
    "#graph of leave p out results for variable p\n",
    "t_leave = np.arange(1,120)\n",
    "\n",
    "fig1, ax = plt.subplots()\n",
    "def setaxparams(): #axis formatting stuff\n",
    "    ax.xaxis.set_minor_locator(AutoMinorLocator())\n",
    "    ax.yaxis.set_minor_locator(AutoMinorLocator())\n",
    "    ax.tick_params(which='both', width=1, direction='in')\n",
    "    ax.tick_params(which='major', length=4)\n",
    "    ax.tick_params(which='minor', length=2, direction='in')\n",
    "setaxparams()\n",
    "s = 'M0', 'Mf', 'Mg', 'Mfg'\n",
    "ax.plot(t_leave, scores_t[:,0], label = 'M0', color = 'gray')\n",
    "ax.plot(t_leave, scores_t[:,1], label = 'Mf', color = 'maroon')\n",
    "ax.plot(t_leave, scores_t[:,2], label = 'Mg', color = 'blue')\n",
    "ax.plot(t_leave, scores_t[:,3], label = 'Mfg', color = 'indigo')\n",
    "plt.ylabel('frequency of best chi2[out of 10]')\n",
    "plt.xlabel('number of data points left out')\n",
    "ax.legend()\n",
    "ax.set_title('Frequency vs. p size')\n",
    "plt.savefig('2.pdf')\n",
    "plt.show()"
   ]
  },
  {
   "cell_type": "code",
   "execution_count": null,
   "metadata": {},
   "outputs": [],
   "source": []
  },
  {
   "cell_type": "code",
   "execution_count": null,
   "metadata": {},
   "outputs": [],
   "source": []
  }
 ],
 "metadata": {
  "kernelspec": {
   "display_name": "Python 3",
   "language": "python",
   "name": "python3"
  },
  "language_info": {
   "codemirror_mode": {
    "name": "ipython",
    "version": 3
   },
   "file_extension": ".py",
   "mimetype": "text/x-python",
   "name": "python",
   "nbconvert_exporter": "python",
   "pygments_lexer": "ipython3",
   "version": "3.8.5"
  }
 },
 "nbformat": 4,
 "nbformat_minor": 4
}
